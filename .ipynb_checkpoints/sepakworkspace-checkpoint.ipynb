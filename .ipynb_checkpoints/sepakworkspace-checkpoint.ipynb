{
 "cells": [
  {
   "cell_type": "code",
   "execution_count": 5,
   "metadata": {},
   "outputs": [],
   "source": [
    "# !pip install pymongo\n",
    "# !pip install pymongo[srv]"
   ]
  },
  {
   "cell_type": "code",
   "execution_count": 2,
   "metadata": {},
   "outputs": [],
   "source": [
    "from pymongo import MongoClient\n",
    "client = MongoClient()"
   ]
  },
  {
   "cell_type": "code",
   "execution_count": 3,
   "metadata": {},
   "outputs": [
    {
     "data": {
      "text/plain": [
       "1"
      ]
     },
     "execution_count": 3,
     "metadata": {},
     "output_type": "execute_result"
    }
   ],
   "source": [
    "db = client.get_database('sepak_users_db')\n",
    "users_info = db.sepak_users_info\n",
    "users_info.count_documents({})"
   ]
  },
  {
   "cell_type": "code",
   "execution_count": 8,
   "metadata": {},
   "outputs": [
    {
     "name": "stdout",
     "output_type": "stream",
     "text": [
      "_id 5f1dce70fb4bba888c47ec28\n",
      "user_id 222\n",
      "name alex\n",
      "username alex222\n"
     ]
    }
   ],
   "source": [
    "x = dict(users_info.find_one({'name':'alex'}))\n",
    "for i,o in x.items():\n",
    "    print(i,o)"
   ]
  },
  {
   "cell_type": "code",
   "execution_count": 9,
   "metadata": {},
   "outputs": [
    {
     "data": {
      "text/plain": [
       "<pymongo.results.InsertOneResult at 0x1ea3efe39c8>"
      ]
     },
     "execution_count": 9,
     "metadata": {},
     "output_type": "execute_result"
    }
   ],
   "source": [
    "new_user = {\n",
    "    'user_id':'222',\n",
    "    'name':'alex',\n",
    "    'username':'alex222'\n",
    "}\n",
    "users_info.insert_one(new_user)"
   ]
  },
  {
   "cell_type": "code",
   "execution_count": 10,
   "metadata": {},
   "outputs": [
    {
     "data": {
      "text/plain": [
       "<pymongo.results.InsertManyResult at 0x1ea3f331748>"
      ]
     },
     "execution_count": 10,
     "metadata": {},
     "output_type": "execute_result"
    }
   ],
   "source": [
    "new_users = [\n",
    "    {'user_id':'23542',\n",
    "    'name':'blake',\n",
    "    'username':'blaxxx'\n",
    "    },\n",
    "    {'user_id':'999',\n",
    "    'name':'jane',\n",
    "    'username':'janeyy'\n",
    "    }\n",
    "]\n",
    "users_info.insert_many(new_users)"
   ]
  },
  {
   "cell_type": "code",
   "execution_count": 11,
   "metadata": {},
   "outputs": [
    {
     "name": "stdout",
     "output_type": "stream",
     "text": [
      "[{'_id': ObjectId('5f1dcb03e9983dbbff579a3e'), 'user_id': '123', 'name': 'Max', 'username': 'jnny', 'zone': ''}, {'_id': ObjectId('5f1dce70fb4bba888c47ec28'), 'user_id': '222', 'name': 'alex', 'username': 'alex222'}, {'_id': ObjectId('5f1dcf03fb4bba888c47ec29'), 'user_id': '23542', 'name': 'blake', 'username': 'blaxxx'}, {'_id': ObjectId('5f1dcf03fb4bba888c47ec2a'), 'user_id': '999', 'name': 'jane', 'username': 'janeyy'}, {'_id': ObjectId('5f1f0975272e696755118ef2'), 'user_id': '222', 'name': 'alex', 'username': 'alex222'}, {'_id': ObjectId('5f1f0975272e696755118ef3'), 'user_id': '23542', 'name': 'blake', 'username': 'blaxxx'}, {'_id': ObjectId('5f1f0975272e696755118ef4'), 'user_id': '999', 'name': 'jane', 'username': 'janeyy'}]\n",
      "123\n",
      "222\n",
      "23542\n",
      "999\n",
      "222\n",
      "23542\n",
      "999\n"
     ]
    }
   ],
   "source": [
    "x = list(users_info.find())\n",
    "print(x)\n",
    "for i in x:\n",
    "    print(i['user_id'])"
   ]
  },
  {
   "cell_type": "code",
   "execution_count": 12,
   "metadata": {},
   "outputs": [],
   "source": [
    "users_info.find_one({'name':'john'})"
   ]
  },
  {
   "cell_type": "code",
   "execution_count": 13,
   "metadata": {},
   "outputs": [
    {
     "name": "stdout",
     "output_type": "stream",
     "text": [
      "None\n"
     ]
    }
   ],
   "source": [
    "x = users_info.find_one({'name':'tay'})\n",
    "print(x)"
   ]
  },
  {
   "cell_type": "code",
   "execution_count": 14,
   "metadata": {},
   "outputs": [
    {
     "data": {
      "text/plain": [
       "<pymongo.results.UpdateResult at 0x1ea3f41e188>"
      ]
     },
     "execution_count": 14,
     "metadata": {},
     "output_type": "execute_result"
    }
   ],
   "source": [
    "user_update = {\n",
    "    'name' : 'Max'\n",
    "}\n",
    "users_info.update_one({'user_id':'123'}, {'$set':user_update})"
   ]
  },
  {
   "cell_type": "code",
   "execution_count": 15,
   "metadata": {},
   "outputs": [
    {
     "data": {
      "text/plain": [
       "<pymongo.results.DeleteResult at 0x1ea3f42c948>"
      ]
     },
     "execution_count": 15,
     "metadata": {},
     "output_type": "execute_result"
    }
   ],
   "source": [
    "users_info.delete_one({'user_id':'123'})"
   ]
  },
  {
   "cell_type": "code",
   "execution_count": 17,
   "metadata": {},
   "outputs": [
    {
     "name": "stdout",
     "output_type": "stream",
     "text": [
      "[]\n"
     ]
    }
   ],
   "source": [
    "x = list(users_info.find())\n",
    "print(x)"
   ]
  },
  {
   "cell_type": "code",
   "execution_count": 197,
   "metadata": {},
   "outputs": [
    {
     "name": "stdout",
     "output_type": "stream",
     "text": [
      "[]\n"
     ]
    },
    {
     "data": {
      "text/plain": [
       "<pymongo.results.InsertOneResult at 0x212cb43f608>"
      ]
     },
     "execution_count": 197,
     "metadata": {},
     "output_type": "execute_result"
    }
   ],
   "source": [
    "user_id = 676767\n",
    "name = 'lim'\n",
    "username = 'limmy'\n",
    "\n",
    "data = list(users_info.find())\n",
    "print(data)\n",
    "user_id_list = []\n",
    "for i in data:\n",
    "    user_id_list.append(i['user_id'])\n",
    "    \n",
    "if user_id not in user_id_list:\n",
    "    new_user = {\n",
    "    'user_id':user_id,\n",
    "    'name':name,\n",
    "    'username':username\n",
    "}\n",
    "users_info.insert_one(new_user)"
   ]
  },
  {
   "cell_type": "code",
   "execution_count": 29,
   "metadata": {},
   "outputs": [
    {
     "data": {
      "text/plain": [
       "<pymongo.results.InsertManyResult at 0x1ea3f4373c8>"
      ]
     },
     "execution_count": 29,
     "metadata": {},
     "output_type": "execute_result"
    }
   ],
   "source": [
    "x = list(users_info.find())\n",
    "users_info.insert_many( [\n",
    "   { 'item': \"canvas\", 'qty': 100, 'size': { 'h': 28, 'w': 35.5, 'uom': \"cm\" }, 'status': \"A\" },\n",
    "   { 'item': \"journal\", 'qty': 25, 'size': { 'h': 14, 'w': 21, 'uom': \"cm\" }, 'status': \"A\" },\n",
    "] )"
   ]
  },
  {
   "cell_type": "code",
   "execution_count": 36,
   "metadata": {},
   "outputs": [
    {
     "name": "stdout",
     "output_type": "stream",
     "text": [
      "{'_id': ObjectId('5f1f108b272e696755118ef6'), 'item': 'canvas', 'qty': 100, 'size': {'h': 28, 'w': 35.5, 'uom': 'cm'}, 'status': 'A'}\n"
     ]
    }
   ],
   "source": [
    "x=users_info.find_one({'size.w':35.5})\n",
    "print(x)"
   ]
  },
  {
   "cell_type": "code",
   "execution_count": 37,
   "metadata": {},
   "outputs": [
    {
     "data": {
      "text/plain": [
       "<pymongo.results.UpdateResult at 0x1ea3f444288>"
      ]
     },
     "execution_count": 37,
     "metadata": {},
     "output_type": "execute_result"
    }
   ],
   "source": [
    "user_update = {\n",
    "    'size.w' : 99\n",
    "}\n",
    "users_info.update_one({'item':'canvas'}, {'$set':user_update})"
   ]
  },
  {
   "cell_type": "code",
   "execution_count": 30,
   "metadata": {},
   "outputs": [
    {
     "data": {
      "text/plain": [
       "<pymongo.results.UpdateResult at 0x212c88bb248>"
      ]
     },
     "execution_count": 30,
     "metadata": {},
     "output_type": "execute_result"
    }
   ],
   "source": [
    "\n",
    "user_update = {\n",
    "    'dates':zone_A_timings,\n",
    "}\n",
    "users_info.update_one({'name':'lim'}, {'$set':user_update})"
   ]
  },
  {
   "cell_type": "code",
   "execution_count": 104,
   "metadata": {},
   "outputs": [],
   "source": [
    "zone_A_timings = {'why':1,'222':1}"
   ]
  },
  {
   "cell_type": "code",
   "execution_count": 106,
   "metadata": {},
   "outputs": [
    {
     "data": {
      "text/plain": [
       "<pymongo.results.UpdateResult at 0x212c8972c88>"
      ]
     },
     "execution_count": 106,
     "metadata": {},
     "output_type": "execute_result"
    }
   ],
   "source": [
    "user_update = {\n",
    "    'dates':zone_A_timings,\n",
    "}\n",
    "\n",
    "\n",
    "\n",
    "# users_info.update_one({'name':'lim'}, {'$set':user_update},upsert=True)\n",
    "# users_info.update_one({'name':'lim'}, {'$set':{'dates.222':99}})\n",
    "# users_info.update_one({'name':'lim'}, {'$push':{'dates':zone_A_timings}})\n",
    "\n",
    "# users_info.insert_many()\n",
    "# user_update = {\n",
    "#     'dates':zone_A_timings,\n",
    "# }\n"
   ]
  },
  {
   "cell_type": "code",
   "execution_count": 131,
   "metadata": {},
   "outputs": [
    {
     "name": "stdout",
     "output_type": "stream",
     "text": [
      "{'_id': ObjectId('5f1fe74f36ce1a1b5edbd3f3'), 'user_id': 676767, 'name': 'lim', 'username': 'limmy', 'dates': {'why': 1, '222': 1, '444': 0}, '111': 5, '222': 0, '333': 12345}\n"
     ]
    }
   ],
   "source": [
    "x=users_info.find_one({'name':'lim'})\n",
    "print(x)"
   ]
  },
  {
   "cell_type": "code",
   "execution_count": 132,
   "metadata": {},
   "outputs": [],
   "source": [
    "y= x['dates']\n",
    "y['856564']=324"
   ]
  },
  {
   "cell_type": "code",
   "execution_count": 133,
   "metadata": {},
   "outputs": [
    {
     "name": "stdout",
     "output_type": "stream",
     "text": [
      "{'_id': ObjectId('5f1fe74f36ce1a1b5edbd3f3'), 'user_id': 676767, 'name': 'lim', 'username': 'limmy', 'dates': {'why': 1, '222': 1, '444': 0, '856564': 324}, '111': 5, '222': 0, '333': 12345}\n",
      "{'why': 1, '222': 1, '444': 0, '856564': 324}\n"
     ]
    }
   ],
   "source": [
    "print(x)\n",
    "print(y)"
   ]
  },
  {
   "cell_type": "code",
   "execution_count": 134,
   "metadata": {},
   "outputs": [
    {
     "data": {
      "text/plain": [
       "<pymongo.results.UpdateResult at 0x212c89d0088>"
      ]
     },
     "execution_count": 134,
     "metadata": {},
     "output_type": "execute_result"
    }
   ],
   "source": [
    "zone_A_timings = y\n",
    "user_update = {\n",
    "    'dates':zone_A_timings,\n",
    "}\n",
    "\n",
    "\n",
    "users_info.update_one({'name':'lim'}, {'$set':user_update},upsert=True)"
   ]
  },
  {
   "cell_type": "markdown",
   "metadata": {},
   "source": [
    "# CHECK +- 2 days"
   ]
  },
  {
   "cell_type": "code",
   "execution_count": 196,
   "metadata": {},
   "outputs": [
    {
     "data": {
      "text/plain": [
       "False"
      ]
     },
     "execution_count": 196,
     "metadata": {},
     "output_type": "execute_result"
    }
   ],
   "source": [
    "import time\n",
    "\n",
    "def withintwodays(date_fixed):\n",
    "    day_fixed = int(date_fixed.split('/')[0])\n",
    "    month_fixed = int(date_fixed.split('/')[1])\n",
    "    \n",
    "    daymonth_fixed = str(day_fixed)+'/'+str(month_fixed)+'/'\n",
    "    \n",
    "    possible_dates = []\n",
    "    for i in range(-2,3):\n",
    "        day_check = day_fixed+i\n",
    "        if day_check > 31:\n",
    "            exceed_day = day_check-31\n",
    "\n",
    "            month_check = month_fixed + 1\n",
    "            if month_check > 12:\n",
    "                possible_dates.append(str(exceed_day) + '/'+str(1)+'/')\n",
    "            else:\n",
    "                possible_dates.append(str(exceed_day) + '/'+str(month_fixed+1)+'/')\n",
    "        elif day_check < 1:\n",
    "            exceed_day = 31+day_check\n",
    "\n",
    "            month_check = month_fixed - 1\n",
    "            if month_check < 1:\n",
    "                possible_dates.append(str(exceed_day) + '/'+str(12)+'/')\n",
    "            else:\n",
    "                possible_dates.append(str(exceed_day) + '/'+str(month_fixed)+'/')\n",
    "        else:\n",
    "            possible_dates.append(str(day_fixed+i) + '/'+str(month_fixed)+'/') \n",
    "        \n",
    "        \n",
    "        localtime = time.localtime(time.time())\n",
    "        datemonth_today = str(localtime.tm_mday)+'/'+str(localtime.tm_mon)+'/'\n",
    "        \n",
    "    if datemonth_today in possible_dates:\n",
    "        return True\n",
    "    else:\n",
    "        return False\n",
    "date = '1/1/2020'\n",
    "withintwodays(date)"
   ]
  },
  {
   "cell_type": "code",
   "execution_count": 174,
   "metadata": {},
   "outputs": [
    {
     "name": "stdout",
     "output_type": "stream",
     "text": [
      "['28/12/', '29/12/', '30/12/', '31/12/', '1/1/']\n"
     ]
    }
   ],
   "source": [
    "date = '30/12/2020'\n",
    "day_today = int(date.split('/')[0])\n",
    "month_today = int(date.split('/')[1])\n",
    "\n",
    "daymonth_today = str(day_today)+'/'+str(month_today)+'/'\n",
    "possible_dates = []\n",
    "for i in range(-2,3):\n",
    "    day_check = day_today+i\n",
    "    if day_check > 31:\n",
    "        exceed_day = day_check-31\n",
    "\n",
    "        month_check = month_today + 1\n",
    "        if month_check > 12:\n",
    "            possible_dates.append(str(exceed_day) + '/'+str(1)+'/')\n",
    "        else:\n",
    "            possible_dates.append(str(exceed_day) + '/'+str(month_today+1)+'/')\n",
    "    elif day_check < 1:\n",
    "        exceed_day = 31+day_check\n",
    "\n",
    "        month_check = month_today - 1\n",
    "        if month_check < 1:\n",
    "            possible_dates.append(str(exceed_day) + '/'+str(12)+'/')\n",
    "        else:\n",
    "            possible_dates.append(str(exceed_day) + '/'+str(month_today)+'/')\n",
    "    else:\n",
    "        possible_dates.append(str(day_today+i) + '/'+str(month_today)+'/') \n",
    "print(possible_dates)"
   ]
  },
  {
   "cell_type": "code",
   "execution_count": 206,
   "metadata": {},
   "outputs": [
    {
     "data": {
      "text/plain": [
       "<pymongo.results.UpdateResult at 0x212cb1e4288>"
      ]
     },
     "execution_count": 206,
     "metadata": {},
     "output_type": "execute_result"
    }
   ],
   "source": [
    "zone_A_attendance = {'2342/3254/23':8}\n",
    "\n",
    "user_update = {\n",
    "    'dates':zone_A_attendance,\n",
    "}\n",
    "\n",
    "users_info.update_one({'name':'lim'}, {'$set':user_update},upsert=True)"
   ]
  },
  {
   "cell_type": "code",
   "execution_count": 280,
   "metadata": {},
   "outputs": [
    {
     "name": "stdout",
     "output_type": "stream",
     "text": [
      "[{'_id': ObjectId('5f2035f97eac41b2e6166cd3'), 'user_id': 772520752, 'name': 'Chuan An', 'username': 'capoonca', 'zone': 'A', 'attendance': {'23322': 1, '111': 222, '555': 666, '888': 555, '28/7/2020': 0, '29/7/2020': 0, '30/7/2020': 0, '1/8/2020': 0, '2/8/2020': 0}}]\n"
     ]
    }
   ],
   "source": [
    "zone_A_users = list(users_info.find({'zone':'A'}))\n",
    "print(zone_A_users)"
   ]
  },
  {
   "cell_type": "code",
   "execution_count": 224,
   "metadata": {},
   "outputs": [
    {
     "data": {
      "text/plain": [
       "<pymongo.results.UpdateResult at 0x212cb2a4148>"
      ]
     },
     "execution_count": 224,
     "metadata": {},
     "output_type": "execute_result"
    }
   ],
   "source": [
    "# for i in zone_A_users:\n",
    "#     print(i)\n",
    "new_zone_A_attendance = {'23322':1}\n",
    "\n",
    "user_update = {\n",
    "    'attendance':new_zone_A_attendance,\n",
    "}\n",
    "users_info.update_many({'zone':'A'}, {'$set':user_update},upsert=True)"
   ]
  },
  {
   "cell_type": "markdown",
   "metadata": {},
   "source": [
    "# INSERT ATTENDANCE WO DELETING PREVIOUS"
   ]
  },
  {
   "cell_type": "code",
   "execution_count": 282,
   "metadata": {},
   "outputs": [],
   "source": []
  },
  {
   "cell_type": "code",
   "execution_count": 24,
   "metadata": {},
   "outputs": [
    {
     "name": "stdout",
     "output_type": "stream",
     "text": [
      "[{'_id': ObjectId('5f2d273406a81c32ac1efbdd'), 'user_id': 33, 'attendance': {'24/8/2020': 0, '31/8/2020': 0, '7/9/2020': 0, '14/9/2020': 0, '21/9/2020': 0, '28/9/2020': 0, '5/10/2020': 0, '12/10/2020': 0, '19/10/2020': 0, '26/10/2020': 0, '2/11/2020': 0, '9/11/2020': 0, '5/7/2020': 0}, 'name': 'Chuan An2', 'username': 'capoon2ca', 'zone': 'B'}, {'_id': ObjectId('5f2d284606a81c32ac1f480e'), 'user_id': 772520752, 'attendance': {'24/8/2020': 0, '31/8/2020': 0, '7/9/2020': 0, '14/9/2020': 0, '21/9/2020': 0, '28/9/2020': 0, '5/10/2020': 0, '12/10/2020': 0, '19/10/2020': 0, '26/10/2020': 0, '2/11/2020': 0, '9/11/2020': 0, '5/7/2020': 0}, 'name': 'Chuan An', 'username': 'capoonca', 'zone': 'B'}]\n",
      "{'24/8/2020': 0, '31/8/2020': 0, '7/9/2020': 0, '14/9/2020': 0, '21/9/2020': 0, '28/9/2020': 0, '5/10/2020': 0, '12/10/2020': 0, '19/10/2020': 0, '26/10/2020': 0, '2/11/2020': 0, '9/11/2020': 0, '5/7/2020': 0}\n",
      "{'5/8/2020': 0}\n",
      "{'24/8/2020': 0, '31/8/2020': 0, '7/9/2020': 0, '14/9/2020': 0, '21/9/2020': 0, '28/9/2020': 0, '5/10/2020': 0, '12/10/2020': 0, '19/10/2020': 0, '26/10/2020': 0, '2/11/2020': 0, '9/11/2020': 0, '5/7/2020': 0}\n",
      "{'5/8/2020': 0}\n"
     ]
    }
   ],
   "source": [
    "\n",
    "zone_A_users = list(users_info.find({'zone':'B'}))\n",
    "print(zone_A_users)\n",
    "new_zone_A_attendance = {'5/8/2020':0}\n",
    "\n",
    "for i in zone_A_users:\n",
    "    try:\n",
    "        current_user_attendance = i['attendance']\n",
    "    except:\n",
    "        current_user_attendance = {}\n",
    "    user_id = i['user_id']\n",
    "    print(current_user_attendance)\n",
    "    print(new_zone_A_attendance)\n",
    "    \n",
    "    \n",
    "    for date in list(new_zone_A_attendance.keys()):\n",
    "        if date in current_user_attendance:\n",
    "            new_zone_A_attendance.pop(date)\n",
    "    combined_attendance = {**current_user_attendance,**new_zone_A_attendance}\n",
    "\n",
    "    user_update = {\n",
    "    'attendance':combined_attendance,\n",
    "    }\n",
    "    users_info.update_one({'user_id':user_id}, {'$set':user_update},upsert=True)"
   ]
  },
  {
   "cell_type": "markdown",
   "metadata": {},
   "source": [
    "# DELETE attendance date"
   ]
  },
  {
   "cell_type": "code",
   "execution_count": 22,
   "metadata": {},
   "outputs": [
    {
     "name": "stdout",
     "output_type": "stream",
     "text": [
      "[{'_id': ObjectId('5f2d273406a81c32ac1efbdd'), 'user_id': 772520752, 'attendance': {'24/8/2020': 0, '31/8/2020': 0, '7/9/2020': 0, '14/9/2020': 0, '21/9/2020': 0, '28/9/2020': 0, '5/10/2020': 0, '12/10/2020': 0, '19/10/2020': 0, '26/10/2020': 0, '2/11/2020': 0, '9/11/2020': 0, '6/7/2020': 0}, 'name': 'Chuan An', 'username': 'capoonca', 'zone': 'B'}]\n"
     ]
    }
   ],
   "source": [
    "zone_A_users = list(users_info.find({'zone':'B'}))\n",
    "print(zone_A_users)\n",
    "delete_zone_A_attendance = {'6/7/2020':0}\n",
    "\n",
    "for user in zone_A_users:\n",
    "    current_user_attendance = user['attendance']\n",
    "    user_id = user['user_id']\n",
    "    for i in delete_zone_A_attendance:\n",
    "        try:\n",
    "            current_user_attendance.pop(i)\n",
    "            user_update = {\n",
    "            'attendance':current_user_attendance,\n",
    "            }\n",
    "        except:\n",
    "            pass\n",
    "    users_info.update_one({'user_id':user_id}, {'$set':user_update},upsert=True)"
   ]
  },
  {
   "cell_type": "code",
   "execution_count": null,
   "metadata": {},
   "outputs": [],
   "source": []
  },
  {
   "cell_type": "code",
   "execution_count": null,
   "metadata": {},
   "outputs": [],
   "source": []
  },
  {
   "cell_type": "code",
   "execution_count": 293,
   "metadata": {},
   "outputs": [
    {
     "name": "stdout",
     "output_type": "stream",
     "text": [
      "{'28/7/2020': 0, '29/7/2020': 0, '30/7/2020': 0, '1/8/2020': 0, '2/8/2020': 0, '1/9/2020': 0, '5/9/2020': 0, '6/9/2020': 0, '7/9/2020': 0, '9/9/2020': 0}\n"
     ]
    }
   ],
   "source": [
    "for i in zone_A_users:\n",
    "    current_user_attendance = i['attendance']\n",
    "print(current_user_attendance)"
   ]
  },
  {
   "cell_type": "markdown",
   "metadata": {},
   "source": [
    "# Sort date"
   ]
  },
  {
   "cell_type": "code",
   "execution_count": 353,
   "metadata": {},
   "outputs": [
    {
     "name": "stdout",
     "output_type": "stream",
     "text": [
      "{'1/3/2020': 0, '29/2/2020': 0, '30/12/2020': 0, '1/8/2020': 0, '2/8/2020': 0}\n",
      "['29/2/2020', '1/3/2020', '1/8/2020', '2/8/2020', '30/12/2020']\n"
     ]
    }
   ],
   "source": [
    "sorted_date = sorted(x, key=lambda x: datetime.datetime.strptime(x, '%d/%m/%Y %H:%M:%S'))\n",
    "print(sorted_date)current_user_attendance={'1/3/2020': 0, '29/2/2020': 0, '30/12/2020': 0, '1/8/2020': 0, '2/8/2020': 0}\n",
    "from datetime import datetime\n",
    "print(json_list)\n",
    "sorted_date = sorted(current_user_attendance, key=lambda x: datetime.strptime(x, '%d/%m/%Y'))\n",
    "print(sorted_date)"
   ]
  },
  {
   "cell_type": "code",
   "execution_count": null,
   "metadata": {},
   "outputs": [],
   "source": [
    "x = {'29/7/2020 21:16:3': '1', '29/7/2020 21:1:3': '1', '29/7/2020 21:11:3': '1','29/7/2020 21:26:3': '1'}\n",
    "print(x)"
   ]
  },
  {
   "cell_type": "code",
   "execution_count": null,
   "metadata": {},
   "outputs": [],
   "source": [
    "sorted_date = sorted(x, key=lambda x: datetime.datetime.strptime(x, '%d/%m/%Y %H:%M:%S'))\n",
    "print(sorted_date)"
   ]
  },
  {
   "cell_type": "code",
   "execution_count": 309,
   "metadata": {},
   "outputs": [
    {
     "name": "stdout",
     "output_type": "stream",
     "text": [
      "{'_id': ObjectId('5f20369e7eac41b2e6166cd4'), 'user_id': 772520752, 'name': 'Chuan An', 'username': 'capoonca', 'zone': 'A', 'attendance': {'28/7/2020': Timestamp(0, 0), '29/7/2020': 0, '30/7/2020': 0, '1/8/2020': 0, '2/8/2020': 0, '1/9/2020': 0, '5/9/2020': 0, '6/9/2020': 0, '7/9/2020': 0, '9/9/2020': 0, '8/9/2020': 0}}\n"
     ]
    }
   ],
   "source": [
    "x=users_info.find_one({'user_id':772520752})\n",
    "print(x)\n",
    "date = '1/9/2020'\n",
    "user_update = {\n",
    "    'attendance.'+date : 99\n",
    "}\n"
   ]
  },
  {
   "cell_type": "code",
   "execution_count": 310,
   "metadata": {},
   "outputs": [
    {
     "data": {
      "text/plain": [
       "<pymongo.results.UpdateResult at 0x212cb1cb188>"
      ]
     },
     "execution_count": 310,
     "metadata": {},
     "output_type": "execute_result"
    }
   ],
   "source": [
    "users_info.update_one({'user_id':772520752}, {'$set':user_update})"
   ]
  },
  {
   "cell_type": "code",
   "execution_count": 316,
   "metadata": {},
   "outputs": [
    {
     "name": "stdout",
     "output_type": "stream",
     "text": [
      "{'_id': ObjectId('5f20369e7eac41b2e6166cd4'), 'user_id': 772520752, 'name': 'Chuan An', 'username': 'capoonca', 'zone': 'A', 'attendance': {'28/7/2020': Timestamp(0, 0), '29/7/2020': 0, '30/7/2020': 0, '1/8/2020': 0, '2/8/2020': 0, '1/9/2020': 99, '5/9/2020': 0, '6/9/2020': 0, '7/9/2020': 0, '9/9/2020': 0, '8/9/2020': 0}}\n"
     ]
    }
   ],
   "source": [
    "account_info = users_info.find_one({'user_id':772520752})\n",
    "print(account_info)"
   ]
  },
  {
   "cell_type": "code",
   "execution_count": 338,
   "metadata": {},
   "outputs": [
    {
     "data": {
      "text/plain": [
       "{'28/7/2020': Timestamp(0, 0),\n",
       " '29/7/2020': 0,\n",
       " '30/7/2020': 0,\n",
       " '1/8/2020': 0,\n",
       " '2/8/2020': 0,\n",
       " '1/9/2020': 99,\n",
       " '5/9/2020': 0,\n",
       " '6/9/2020': 0,\n",
       " '7/9/2020': 0,\n",
       " '9/9/2020': 0,\n",
       " '8/9/2020': 0}"
      ]
     },
     "execution_count": 338,
     "metadata": {},
     "output_type": "execute_result"
    }
   ],
   "source": [
    "account_info['attendance']"
   ]
  },
  {
   "cell_type": "code",
   "execution_count": 321,
   "metadata": {},
   "outputs": [
    {
     "name": "stdout",
     "output_type": "stream",
     "text": [
      "28/7/2020\n",
      "29/7/2020\n",
      "30/7/2020\n",
      "1/8/2020\n",
      "2/8/2020\n",
      "1/9/2020\n",
      "5/9/2020\n",
      "6/9/2020\n",
      "7/9/2020\n",
      "9/9/2020\n",
      "8/9/2020\n"
     ]
    }
   ],
   "source": [
    "for i in account_info['attendance']:\n",
    "    print(i)"
   ]
  },
  {
   "cell_type": "code",
   "execution_count": 324,
   "metadata": {},
   "outputs": [
    {
     "data": {
      "text/plain": [
       "99"
      ]
     },
     "execution_count": 324,
     "metadata": {},
     "output_type": "execute_result"
    }
   ],
   "source": [
    "account_info['attendance']['1/9/2020']"
   ]
  },
  {
   "cell_type": "code",
   "execution_count": 52,
   "metadata": {},
   "outputs": [
    {
     "name": "stdout",
     "output_type": "stream",
     "text": [
      "{'_id': ObjectId('5f206d1f0b3a8a7351f93934'), 'user_id': 4, 'name': 'sdfsdf', 'username': 'sdfreg', 'zone': 'A', 'attendance': {'30/7/2020': 0, '1/8/2020': 0, '2/8/2020': 0, '7/9/2020': 0, '29/7/2020': 1, '2/1/1998': 0, '2/1/2020': 0, '28/7/2020': 1, '30/9/2021': 0}, 'notifications': True}\n"
     ]
    }
   ],
   "source": [
    "users_info = db.sepak_users_info\n",
    "# users_info.find({'$and':{{'user_id':772520752},{'zone':'B'}}})\n",
    "x = list(users_info.find({'zone':'A','notifications':True}))\n",
    "\n",
    "for i in x:\n",
    "    print(i)"
   ]
  },
  {
   "cell_type": "code",
   "execution_count": 44,
   "metadata": {},
   "outputs": [
    {
     "data": {
      "text/plain": [
       "<pymongo.results.UpdateResult at 0x1f70ee65648>"
      ]
     },
     "execution_count": 44,
     "metadata": {},
     "output_type": "execute_result"
    }
   ],
   "source": [
    "user_update = {\n",
    "    'notifications':False,\n",
    "}\n",
    "\n",
    "\n",
    "users_info.update_one({'user_id':5}, {'$set':user_update},upsert=True)"
   ]
  },
  {
   "cell_type": "code",
   "execution_count": 6,
   "metadata": {},
   "outputs": [],
   "source": [
    "x=['29/2/2020', '1/3/2020', '1/8/2020', '2/8/2020', '30/12/2020']\n",
    "date = '3/8/2020'"
   ]
  },
  {
   "cell_type": "code",
   "execution_count": 7,
   "metadata": {},
   "outputs": [
    {
     "name": "stdout",
     "output_type": "stream",
     "text": [
      "True\n",
      "True\n",
      "True\n",
      "True\n",
      "False\n"
     ]
    }
   ],
   "source": [
    "import datetime\n",
    "date = datetime.datetime.strptime(date, '%d/%m/%Y')\n",
    "for i in x:\n",
    "    i = datetime.datetime.strptime(i, '%d/%m/%Y')\n",
    "    if date > i:\n",
    "        print(True)\n",
    "    else:\n",
    "        print(False)"
   ]
  },
  {
   "cell_type": "code",
   "execution_count": 30,
   "metadata": {},
   "outputs": [
    {
     "name": "stdout",
     "output_type": "stream",
     "text": [
      "['29/2/2020', '1/3/2020', '1/8/2020', '2/8/2020', '30/12/2020']\n",
      "1/8/2020\n",
      "['29/2/2020', '1/3/2020', '2/8/2020', '30/12/2020']\n",
      "30/12/2020\n",
      "['29/2/2020', '1/3/2020', '2/8/2020']\n"
     ]
    }
   ],
   "source": [
    "import time\n",
    "total_trainings_so_far = 0\n",
    "sorted_date=['29/2/2020', '1/3/2020', '1/8/2020', '2/8/2020', '30/12/2020']\n",
    "localtime = time.localtime(time.time())\n",
    "date_today = str(localtime.tm_mday)+'/'+str(localtime.tm_mon)+'/'+str(localtime.tm_year)\n",
    "date_today = datetime.datetime.strptime(date_today, '%d/%m/%Y')\n",
    "for date in sorted_date:\n",
    "    date = datetime.datetime.strptime(date, '%d/%m/%Y')\n",
    "    if date_today >= date:\n",
    "        total_trainings_so_far += 1\n",
    "    else:\n",
    "        date = datetime.datetime.strftime(date, '%#d/%#m/%Y')\n",
    "        print(sorted_date)\n",
    "        print(date)\n",
    "        sorted_date.remove(date)  \n",
    "print(sorted_date)"
   ]
  },
  {
   "cell_type": "code",
   "execution_count": 22,
   "metadata": {},
   "outputs": [
    {
     "name": "stdout",
     "output_type": "stream",
     "text": [
      "2020-07-31 00:00:00\n",
      "31/07/2020\n"
     ]
    }
   ],
   "source": [
    "localtime = time.localtime(time.time())\n",
    "date_today = str(localtime.tm_mday)+'/'+str(localtime.tm_mon)+'/'+str(localtime.tm_year)\n",
    "date_today = datetime.datetime.strptime(date_today, '%d/%m/%Y')\n",
    "print(date_today)\n",
    "\n",
    "\n",
    "date_today = datetime.datetime.strftime(date_today, '%d/%m/%Y')\n",
    "print(date_today)"
   ]
  },
  {
   "cell_type": "code",
   "execution_count": 7,
   "metadata": {},
   "outputs": [
    {
     "name": "stdout",
     "output_type": "stream",
     "text": [
      "Zone A:\n",
      "Chuan Hong\n",
      "Chuan An\n",
      "\n",
      "Zone B:\n",
      "Chuan An\n",
      "\n",
      "Zone C:\n",
      "\n"
     ]
    }
   ],
   "source": [
    "\n",
    "users_info = db.sepak_users_info\n",
    "account_info_A = list(users_info.find({'zone':'A'}))\n",
    "account_info_B = list(users_info.find({'zone':'B'}))\n",
    "account_info_C = list(users_info.find({'zone':'C'}))\n",
    "\n",
    "message = \"Zone A:\\n\"\n",
    "for i in account_info_A:\n",
    "    message += i['name'] + '\\n'\n",
    "message += \"\\nZone B:\\n\"\n",
    "for i in account_info_B:\n",
    "    message += i['name'] + '\\n'\n",
    "message += \"\\nZone C:\\n\"\n",
    "for i in account_info_C:\n",
    "    message += i['name'] + '\\n'\n",
    "print(message)"
   ]
  },
  {
   "cell_type": "code",
   "execution_count": 8,
   "metadata": {},
   "outputs": [
    {
     "name": "stdout",
     "output_type": "stream",
     "text": [
      "{'6/8/2020': 0, '7/8/2020': 0, '8/8/2020': 0}\n"
     ]
    }
   ],
   "source": [
    "attendance = db.initial_attendance\n",
    "# attendance.zone\n",
    "zone_A = attendance.find_one({})['zone']['A']\n",
    "print(zone_A)"
   ]
  },
  {
   "cell_type": "code",
   "execution_count": 15,
   "metadata": {},
   "outputs": [
    {
     "data": {
      "text/plain": [
       "<pymongo.results.UpdateResult at 0x1cb93661b88>"
      ]
     },
     "execution_count": 15,
     "metadata": {},
     "output_type": "execute_result"
    }
   ],
   "source": [
    "user_id = 888\n",
    "name = 'john'\n",
    "username = 'johnny'\n",
    "zone = 'A'\n",
    "users_info = db.sepak_users_info\n",
    "\n",
    "user_update = {\n",
    "    'user_id':user_id,\n",
    "    'name':name,\n",
    "    'username':username,\n",
    "    'zone':zone,\n",
    "    'attendance':zone_A,\n",
    "    }\n",
    "users_info.update_one({'user_id':user_id}, {'$set':user_update},upsert=True)"
   ]
  },
  {
   "cell_type": "code",
   "execution_count": 10,
   "metadata": {},
   "outputs": [],
   "source": [
    "# import time\n",
    "# localtime = time.localtime(time.time())\n",
    "# date_today = str(localtime.tm_mday)+'/'+str(localtime.tm_mon)+'/'+str(localtime.tm_year)\n",
    "# print(date_today)\n",
    "date_today = '26/8/2020'"
   ]
  },
  {
   "cell_type": "code",
   "execution_count": 22,
   "metadata": {},
   "outputs": [
    {
     "data": {
      "text/plain": [
       "[{'_id': ObjectId('5f2d65ba06a81c32ac2c3bde'),\n",
       "  'user_id': 772520752,\n",
       "  'attendance': {'26/8/2020': 0,\n",
       "   '2/9/2020': 0,\n",
       "   '9/9/2020': 0,\n",
       "   '16/9/2020': 0,\n",
       "   '23/9/2020': 0,\n",
       "   '30/9/2020': 0,\n",
       "   '7/10/2020': 0,\n",
       "   '14/10/2020': 0,\n",
       "   '21/10/2020': 0,\n",
       "   '28/10/2020': 0,\n",
       "   '4/11/2020': 0,\n",
       "   '11/11/2020': 0},\n",
       "  'name': 'Chuan An',\n",
       "  'username': 'capoonca',\n",
       "  'zone': 'A'},\n",
       " {'_id': ObjectId('5f2e66e406a81c32ac585718'),\n",
       "  'user_id': 406831781,\n",
       "  'attendance': {'26/8/2020': 0,\n",
       "   '2/9/2020': 0,\n",
       "   '9/9/2020': 0,\n",
       "   '16/9/2020': 0,\n",
       "   '23/9/2020': 0,\n",
       "   '30/9/2020': 0,\n",
       "   '7/10/2020': 0,\n",
       "   '14/10/2020': 0,\n",
       "   '21/10/2020': 0,\n",
       "   '28/10/2020': 0,\n",
       "   '4/11/2020': 0,\n",
       "   '11/11/2020': 0},\n",
       "  'name': 'mohan',\n",
       "  'username': 'Mohan9898',\n",
       "  'zone': 'A',\n",
       "  'notifications': True},\n",
       " {'_id': ObjectId('5f2e670b06a81c32ac585e30'),\n",
       "  'user_id': 722327744,\n",
       "  'attendance': {'26/8/2020': 0,\n",
       "   '2/9/2020': 0,\n",
       "   '9/9/2020': 0,\n",
       "   '16/9/2020': 0,\n",
       "   '23/9/2020': 0,\n",
       "   '30/9/2020': 0,\n",
       "   '7/10/2020': 0,\n",
       "   '14/10/2020': 0,\n",
       "   '21/10/2020': 0,\n",
       "   '28/10/2020': 0,\n",
       "   '4/11/2020': 0,\n",
       "   '11/11/2020': 0},\n",
       "  'name': 'Jc',\n",
       "  'username': 'jaacyyy',\n",
       "  'zone': 'A'},\n",
       " {'_id': ObjectId('5f2e674806a81c32ac58684c'),\n",
       "  'user_id': 502582850,\n",
       "  'attendance': {'26/8/2020': 0,\n",
       "   '2/9/2020': 0,\n",
       "   '9/9/2020': 0,\n",
       "   '16/9/2020': 0,\n",
       "   '23/9/2020': 0,\n",
       "   '30/9/2020': 0,\n",
       "   '7/10/2020': 0,\n",
       "   '14/10/2020': 0,\n",
       "   '21/10/2020': 0,\n",
       "   '28/10/2020': 0,\n",
       "   '4/11/2020': 0,\n",
       "   '11/11/2020': 0},\n",
       "  'name': 'Adli Iqbal',\n",
       "  'username': 'Adli_Iqbal',\n",
       "  'zone': 'A'}]"
      ]
     },
     "execution_count": 22,
     "metadata": {},
     "output_type": "execute_result"
    }
   ],
   "source": [
    "list(users_info.find({'attendance.'+'26/8/2020':0}))\n",
    "\n",
    "# for i in list(users_info.find({'attendance.'+date_today:0})):\n",
    "#     print(i)\n"
   ]
  },
  {
   "cell_type": "code",
   "execution_count": 23,
   "metadata": {},
   "outputs": [],
   "source": [
    "attendance = db.initial_attendance\n",
    "zone_attendance_A = attendance.find_one({})['zone']['A']\n",
    "zone_attendance_B = attendance.find_one({})['zone']['B']\n",
    "zone_attendance_C = attendance.find_one({})['zone']['C']"
   ]
  },
  {
   "cell_type": "code",
   "execution_count": 24,
   "metadata": {},
   "outputs": [
    {
     "name": "stdout",
     "output_type": "stream",
     "text": [
      "{'26/8/2020': 0, '2/9/2020': 0, '9/9/2020': 0, '16/9/2020': 0, '23/9/2020': 0, '30/9/2020': 0, '7/10/2020': 0, '14/10/2020': 0, '21/10/2020': 0, '28/10/2020': 0, '4/11/2020': 0, '11/11/2020': 0}\n"
     ]
    }
   ],
   "source": [
    "print(zone_attendance_A)"
   ]
  },
  {
   "cell_type": "code",
   "execution_count": 25,
   "metadata": {},
   "outputs": [
    {
     "name": "stdout",
     "output_type": "stream",
     "text": [
      "True\n"
     ]
    }
   ],
   "source": [
    "if date_today in zone_attendance_A:\n",
    "    training_today = 'Zone A'\n",
    "    pass\n",
    "elif date_today in zone_attendance_B:\n",
    "    training_today = 'Zone B'\n",
    "    pass\n",
    "elif date_today in zone_attendance_C:\n",
    "    training_today = 'Zone C'\n",
    "    pass\n",
    "else:\n",
    "    #no training today\n",
    "    pass\n"
   ]
  },
  {
   "cell_type": "code",
   "execution_count": 31,
   "metadata": {},
   "outputs": [],
   "source": [
    "for i in list(users_info.find({'attendance.'+'26/8/2020':1})):\n",
    "    print(i['name'])"
   ]
  },
  {
   "cell_type": "code",
   "execution_count": null,
   "metadata": {},
   "outputs": [],
   "source": []
  }
 ],
 "metadata": {
  "kernelspec": {
   "display_name": "Python 3",
   "language": "python",
   "name": "python3"
  },
  "language_info": {
   "codemirror_mode": {
    "name": "ipython",
    "version": 3
   },
   "file_extension": ".py",
   "mimetype": "text/x-python",
   "name": "python",
   "nbconvert_exporter": "python",
   "pygments_lexer": "ipython3",
   "version": "3.7.6"
  }
 },
 "nbformat": 4,
 "nbformat_minor": 4
}
